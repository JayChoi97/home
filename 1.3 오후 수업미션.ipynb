{
 "cells": [
  {
   "cell_type": "code",
   "execution_count": 1,
   "metadata": {},
   "outputs": [
    {
     "ename": "NameError",
     "evalue": "name 'data' is not defined",
     "output_type": "error",
     "traceback": [
      "\u001b[1;31m---------------------------------------------------------------------------\u001b[0m",
      "\u001b[1;31mNameError\u001b[0m                                 Traceback (most recent call last)",
      "Cell \u001b[1;32mIn[1], line 18\u001b[0m\n\u001b[0;32m     15\u001b[0m             data\u001b[38;5;241m.\u001b[39mappend(row)\n\u001b[0;32m     16\u001b[0m     \u001b[38;5;28;01mreturn\u001b[39;00m data\n\u001b[1;32m---> 18\u001b[0m \u001b[43mdata\u001b[49m[:\u001b[38;5;241m3\u001b[39m]\n\u001b[0;32m     20\u001b[0m unique_locations\u001b[38;5;241m=\u001b[39mread_csv(csv_file_path)\n",
      "\u001b[1;31mNameError\u001b[0m: name 'data' is not defined"
     ]
    }
   ],
   "source": [
    "### csv자료를 list 자료로 읽기\n",
    "import os\n",
    "\n",
    "script_path = os.path.realpath(__file__) if \"__file__\" in locals() else None\n",
    "\n",
    "csv_file_path = r\"C:\\Users\\bluecom015\\Desktop\\수업 자료\\복습미션\\날씨정보.csv\"\n",
    "\n",
    "import csv\n",
    "\n",
    "def read_csv(file_path, encoding='utf-8'):\n",
    "    data = []\n",
    "    with open(file_path, 'r', encoding=encoding) as file:\n",
    "        reader = csv.reader(file)\n",
    "        for row in reader:\n",
    "            data.append(row)\n",
    "    return data\n",
    "\n",
    "\n",
    "unique_locations=read_csv(csv_file_path)"
   ]
  },
  {
   "cell_type": "code",
   "execution_count": 27,
   "metadata": {},
   "outputs": [
    {
     "name": "stdout",
     "output_type": "stream",
     "text": [
      "{'제주', '서울', '부산'}\n"
     ]
    }
   ],
   "source": [
    "###############\n",
    "## 지점을 '서울','부산', '제주'만 출력하고자함\n",
    "def read_csv(file_path, encoding='utf-8'):\n",
    "    selected_data = []\n",
    "    with open(file_path, 'r', encoding=encoding) as file:\n",
    "        reader = csv.reader(file)\n",
    "        # 헤더를 읽어온다 (첫 행을 건너뛰기 위해)\n",
    "        header = next(reader)\n",
    "        for row in reader:\n",
    "            # '서울', '부산', '제주' 지점만 선택\n",
    "            if row[0] in ['서울', '부산', '제주']:\n",
    "                selected_data.append(row)\n",
    "    return selected_data\n",
    "\n",
    "### 지점자료의 중복을 제거하고 유니크한 값 출력()\n",
    "\n",
    "지점 = []\n",
    "new_unique_locations = unique_locations[1:]\n",
    "for location in new_unique_locations:\n",
    "    for a in location:\n",
    "        # print(a.split('\\t'))\n",
    "        b = a.split('\\t')\n",
    "        지점.append(b[0])\n",
    "\n",
    "print(set(지점))\n",
    "\n",
    "        \n"
   ]
  },
  {
   "cell_type": "markdown",
   "metadata": {},
   "source": [
    "------------------------------------------------"
   ]
  },
  {
   "cell_type": "code",
   "execution_count": 1,
   "metadata": {},
   "outputs": [
    {
     "data": {
      "text/plain": [
       "[['지점명', '관측시간', '최고기온', '최저기온', '강수량'],\n",
       " ['서울', '2023-01-01', '3.8', '-4.3', ''],\n",
       " ['서울', '2023-01-02', '-0.4', '-7.4', '']]"
      ]
     },
     "execution_count": 1,
     "metadata": {},
     "output_type": "execute_result"
    }
   ],
   "source": [
    "##### 자료 읽기: 오전 pt(\"실습_코드제공됨_csv를 리스트로 처리\")자료의 작업 3참조\n",
    "import csv\n",
    "\n",
    "data=[]\n",
    "fileName='날씨정보.csv'\n",
    "f=open(\"C:\\\\Users\\\\bluecom015\\\\Desktop\\\\수업 자료\\\\복습미션\\\\\"+fileName,'r',encoding='utf-8')\n",
    "reader=csv.reader(f,delimiter=',')\n",
    "for row in reader:\n",
    "    data.append(row)\n",
    "f.close()\n",
    "\n",
    "data[:3]"
   ]
  },
  {
   "cell_type": "code",
   "execution_count": 6,
   "metadata": {},
   "outputs": [
    {
     "ename": "NameError",
     "evalue": "name 'local' is not defined",
     "output_type": "error",
     "traceback": [
      "\u001b[1;31m---------------------------------------------------------------------------\u001b[0m",
      "\u001b[1;31mNameError\u001b[0m                                 Traceback (most recent call last)",
      "Cell \u001b[1;32mIn[6], line 5\u001b[0m\n\u001b[0;32m      1\u001b[0m \u001b[38;5;66;03m#### 서울,부산,제주의 강수량합:오전 pt 작업 6 참조\u001b[39;00m\n\u001b[0;32m      2\u001b[0m \u001b[38;5;66;03m#### 세로합에 대한 내용은 참조\u001b[39;00m\n\u001b[0;32m      3\u001b[0m \u001b[38;5;66;03m#### '서울','부산','제주'를 어떻게 분리할것인가는 고민(오전 pt 작업 7 참조)\u001b[39;00m\n\u001b[0;32m      4\u001b[0m new_num\u001b[38;5;241m=\u001b[39m[]\n\u001b[1;32m----> 5\u001b[0m \u001b[38;5;28;01mfor\u001b[39;00m x \u001b[38;5;129;01min\u001b[39;00m \u001b[43mlocal\u001b[49m:\n\u001b[0;32m      6\u001b[0m     \u001b[38;5;28;01mif\u001b[39;00m x[\u001b[38;5;241m4\u001b[39m]\u001b[38;5;241m==\u001b[39m\u001b[38;5;124m'\u001b[39m\u001b[38;5;124m'\u001b[39m:\n\u001b[0;32m      7\u001b[0m         new_num\u001b[38;5;241m.\u001b[39mappend(\u001b[38;5;241m0\u001b[39m)\n",
      "\u001b[1;31mNameError\u001b[0m: name 'local' is not defined"
     ]
    }
   ],
   "source": [
    "#### 서울,부산,제주의 강수량합:오전 pt 작업 6 참조\n",
    "#### 세로합에 대한 내용은 참조\n",
    "#### '서울','부산','제주'를 어떻게 분리할것인가는 고민(오전 pt 작업 7 참조)\n"
   ]
  },
  {
   "cell_type": "code",
   "execution_count": 1,
   "metadata": {},
   "outputs": [
    {
     "ename": "NameError",
     "evalue": "name 'local' is not defined",
     "output_type": "error",
     "traceback": [
      "\u001b[1;31m---------------------------------------------------------------------------\u001b[0m",
      "\u001b[1;31mNameError\u001b[0m                                 Traceback (most recent call last)",
      "Cell \u001b[1;32mIn[1], line 4\u001b[0m\n\u001b[0;32m      2\u001b[0m \u001b[38;5;28;01mimport\u001b[39;00m \u001b[38;5;21;01mnumpy\u001b[39;00m \u001b[38;5;28;01mas\u001b[39;00m \u001b[38;5;21;01mnp\u001b[39;00m\n\u001b[0;32m      3\u001b[0m new_num\u001b[38;5;241m=\u001b[39m[]\n\u001b[1;32m----> 4\u001b[0m \u001b[38;5;28;01mfor\u001b[39;00m x \u001b[38;5;129;01min\u001b[39;00m \u001b[43mlocal\u001b[49m:\n\u001b[0;32m      5\u001b[0m     new_num\u001b[38;5;241m.\u001b[39mappend(\u001b[38;5;28mfloat\u001b[39m(x[\u001b[38;5;241m3\u001b[39m]))\n\u001b[0;32m      6\u001b[0m np\u001b[38;5;241m.\u001b[39msum(new_num, axis\u001b[38;5;241m=\u001b[39m\u001b[38;5;241m0\u001b[39m)\n",
      "\u001b[1;31mNameError\u001b[0m: name 'local' is not defined"
     ]
    }
   ],
   "source": [
    "### 서울,부산,제주 지역을 분리 (오전 pt 작업 9 참조)-이떄 최고,최저기온만 가지고 감\n",
    "import numpy as np\n",
    "new_num=[]\n",
    "for x in local:\n",
    "    new_num.append(float(x[3]))\n",
    "np.sum(new_num, axis=0)\n",
    "\n",
    "np.mean(new_num,axis=0)\n",
    "np.max(new_num,axis=0)\n",
    "\n",
    "new_num=[]\n",
    "for x in local:\n",
    "    if x[4]=='':\n",
    "        new_num.append(0)\n",
    "    else:\n",
    "        new_num.append(float(x[4]))\n",
    "\n",
    "import matplotlib.pyplot as plt\n",
    "서울,부산,제주=new_num[:30],new_num[31:60],new_num[60:]\n",
    "\n",
    "plt.figure(figsize=(10,3))\n",
    "plt.subplot(1,3,1)\n",
    "plt.plt(서울)\n",
    "plt.title('서울')\n",
    "plt.ylim([0,80])\n",
    "\n",
    "plt.subplot(1,3,2)\n",
    "plt.plt(부산)\n",
    "plt.title('부산')\n",
    "plt.ylim([0,80])\n",
    "\n",
    "plt.subplot(1,3,3)\n",
    "plt.plt(제주)\n",
    "plt.title('제주')\n",
    "plt.ylim([0,80])\n"
   ]
  },
  {
   "cell_type": "code",
   "execution_count": 4,
   "metadata": {},
   "outputs": [],
   "source": [
    "### 위에서 제작한 자료를 ㅇ용하여 기온차이 필드제작(작업 4~5 참조)"
   ]
  },
  {
   "cell_type": "code",
   "execution_count": null,
   "metadata": {},
   "outputs": [],
   "source": [
    "## 강사님이 제공해주신 코드\n",
    "new_num=[]\n",
    "for x in local:\n",
    "    if x[4]=='':\n",
    "        new_num.append(0)\n",
    "    else:\n",
    "        new_num.append(float(x[4]))\n",
    "\n",
    "import matplotlib.pyplot as plt\n",
    "plt.rcParams['font.family'] ='Malgun Gothic' # 한글깨짐현상때문에 사용\n",
    "서울,부산,제주=new_num[:30],new_num[31:60],new_num[60:]\n",
    "\n",
    "plt.figure(figsize=(10,3))\n",
    "plt.subplot(1,3,1)\n",
    "plt.plot(서울)\n",
    "plt.title('서울')\n",
    "plt.ylim([0,80])\n",
    "\n",
    "plt.subplot(1,3,2)\n",
    "plt.plot(부산)\n",
    "plt.title('부산')\n",
    "plt.ylim([0,80])\n",
    "\n",
    "plt.subplot(1,3,3)\n",
    "plt.plot(제주)\n",
    "plt.title('제주')\n",
    "plt.ylim([0,80])"
   ]
  }
 ],
 "metadata": {
  "kernelspec": {
   "display_name": "OpenAI",
   "language": "python",
   "name": "python3"
  },
  "language_info": {
   "codemirror_mode": {
    "name": "ipython",
    "version": 3
   },
   "file_extension": ".py",
   "mimetype": "text/x-python",
   "name": "python",
   "nbconvert_exporter": "python",
   "pygments_lexer": "ipython3",
   "version": "3.12.0"
  }
 },
 "nbformat": 4,
 "nbformat_minor": 2
}
