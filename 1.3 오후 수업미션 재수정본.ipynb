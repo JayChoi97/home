{
 "cells": [
  {
   "cell_type": "code",
   "execution_count": 1,
   "metadata": {},
   "outputs": [
    {
     "data": {
      "text/plain": [
       "[['지점명', '관측시간', '최고기온', '최저기온', '강수량'],\n",
       " ['서울', '2023-01-01', '3.8', '-4.3', ''],\n",
       " ['서울', '2023-01-02', '-0.4', '-7.4', '']]"
      ]
     },
     "execution_count": 1,
     "metadata": {},
     "output_type": "execute_result"
    }
   ],
   "source": [
    "##### 자료 읽기: 오전 pt(\"실습_코드제공됨_csv를 리스트로 처리\")자료의 작업 3참조\n",
    "import csv\n",
    "\n",
    "data=[]\n",
    "fileName='날씨정보.csv'\n",
    "f=open(\"C:\\\\Users\\\\bluecom015\\\\Desktop\\\\수업 자료\\\\복습미션\\\\\"+fileName,'r',encoding='utf-8')\n",
    "reader=csv.reader(f,delimiter=',')\n",
    "for row in reader:\n",
    "    data.append(row)\n",
    "f.close()\n",
    "\n",
    "data[:3]"
   ]
  },
  {
   "cell_type": "code",
   "execution_count": 2,
   "metadata": {},
   "outputs": [],
   "source": [
    "import matplotlib.pyplot as plt\n",
    "plt.rcParams['font.family']='Malgun Gothic'\n",
    "\n",
    "header=data[0]\n",
    "local=data[1:]"
   ]
  },
  {
   "cell_type": "code",
   "execution_count": 3,
   "metadata": {},
   "outputs": [
    {
     "data": {
      "text/plain": [
       "14.5"
      ]
     },
     "execution_count": 3,
     "metadata": {},
     "output_type": "execute_result"
    }
   ],
   "source": [
    "import numpy as np\n",
    "\n",
    "new_num=[]\n",
    "for x in local:\n",
    "    new_num.append(float(x[3]))\n",
    "new_num[:3]\n",
    "\n",
    "np.sum(new_num, axis=0)\n",
    "np.mean(new_num, axis=0)\n",
    "np.max(new_num, axis=0)\n"
   ]
  },
  {
   "cell_type": "code",
   "execution_count": 4,
   "metadata": {},
   "outputs": [
    {
     "data": {
      "text/plain": [
       "(0.0, 80.0)"
      ]
     },
     "execution_count": 4,
     "metadata": {},
     "output_type": "execute_result"
    },
    {
     "data": {
      "image/png": "[encoded data removed]",
      "text/plain": [
       "<Figure size 1000x300 with 3 Axes>"
      ]
     },
     "metadata": {},
     "output_type": "display_data"
    }
   ],
   "source": [
    "new_num=[]\n",
    "for x in local:\n",
    "    #빈곳을 0으로\n",
    "    if x[4]=='':\n",
    "        new_num.append(0)\n",
    "    else:\n",
    "        new_num.append(float(x[4]))\n",
    "\n",
    "\n",
    "서울,부산,제주=new_num[:30],new_num[31:60],new_num[60:]\n",
    "\n",
    "plt.figure(figsize=(10,3))\n",
    "plt.subplot(1,3,1)\n",
    "plt.plot(서울)\n",
    "plt.title('서울')\n",
    "plt.ylim([0,80])\n",
    "\n",
    "plt.subplot(1,3,2)\n",
    "plt.plot(부산)\n",
    "plt.title('부산')\n",
    "plt.ylim([0,80])\n",
    "\n",
    "plt.subplot(1,3,3)\n",
    "plt.plot(제주)\n",
    "plt.title('제주')\n",
    "plt.ylim([0,80])"
   ]
  },
  {
   "cell_type": "code",
   "execution_count": 5,
   "metadata": {},
   "outputs": [
    {
     "data": {
      "text/plain": [
       "[3.8,\n",
       " -0.4,\n",
       " 0.6,\n",
       " 3.3,\n",
       " 3.6,\n",
       " 5.7,\n",
       " 3.8,\n",
       " 6.3,\n",
       " 7.0,\n",
       " 9.1,\n",
       " 9.2,\n",
       " 12.5,\n",
       " 10.1,\n",
       " 8.4,\n",
       " 3.8,\n",
       " -1.2,\n",
       " -0.4,\n",
       " 2.2,\n",
       " 4.3,\n",
       " 2.0,\n",
       " 1.5,\n",
       " 2.6,\n",
       " 4.6,\n",
       " -6.9,\n",
       " -5.4,\n",
       " -3.5,\n",
       " -3.8,\n",
       " -0.6,\n",
       " 4.9,\n",
       " 4.2,\n",
       " 8.7,\n",
       " 6.4,\n",
       " 6.2,\n",
       " 8.1,\n",
       " 8.1,\n",
       " 10.5,\n",
       " 9.2,\n",
       " 12.4,\n",
       " 14.8,\n",
       " 13.5,\n",
       " 14.5,\n",
       " 16.9,\n",
       " 17.2,\n",
       " 14.0,\n",
       " 8.1,\n",
       " 6.1,\n",
       " 5.3,\n",
       " 6.5,\n",
       " 7.2,\n",
       " 7.4,\n",
       " 5.5,\n",
       " 4.2,\n",
       " 11.2,\n",
       " 4.1,\n",
       " -1.0,\n",
       " 3.1,\n",
       " 2.3,\n",
       " 2.1,\n",
       " 7.3,\n",
       " 7.3,\n",
       " 10.9,\n",
       " 7.8,\n",
       " 8.5,\n",
       " 9.9,\n",
       " 13.4,\n",
       " 12.3,\n",
       " 11.4,\n",
       " 14.6,\n",
       " 16.4,\n",
       " 15.3,\n",
       " 16.7,\n",
       " 17.7,\n",
       " 20.7,\n",
       " 14.5,\n",
       " 9.0,\n",
       " 4.0,\n",
       " 4.9,\n",
       " 7.9,\n",
       " 9.5,\n",
       " 9.8,\n",
       " 5.3,\n",
       " 9.5,\n",
       " 12.0,\n",
       " 5.2,\n",
       " 1.8,\n",
       " 9.6,\n",
       " 6.1,\n",
       " 4.7,\n",
       " 8.3,\n",
       " 9.5]"
      ]
     },
     "execution_count": 5,
     "metadata": {},
     "output_type": "execute_result"
    }
   ],
   "source": [
    "max_num=[]\n",
    "for x in local:\n",
    "    max_num.append(float(x[2]))\n",
    "\n",
    "min_num=[]\n",
    "for x in local:\n",
    "    min_num.append(float(x[3]))\n",
    "\n",
    "max_num"
   ]
  }
 ],
 "metadata": {
  "kernelspec": {
   "display_name": "OpenAI",
   "language": "python",
   "name": "python3"
  },
  "language_info": {
   "codemirror_mode": {
    "name": "ipython",
    "version": 3
   },
   "file_extension": ".py",
   "mimetype": "text/x-python",
   "name": "python",
   "nbconvert_exporter": "python",
   "pygments_lexer": "ipython3",
   "version": "3.12.0"
  }
 },
 "nbformat": 4,
 "nbformat_minor": 2
}
