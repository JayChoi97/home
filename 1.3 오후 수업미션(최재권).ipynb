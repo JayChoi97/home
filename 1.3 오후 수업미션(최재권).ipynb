{
 "cells": [
  {
   "cell_type": "code",
   "execution_count": 49,
   "metadata": {},
   "outputs": [
    {
     "data": {
      "text/plain": [
       "[['지점명', '관측시간', '최고기온', '최저기온', '강수량'],\n",
       " ['서울', '2023-01-01', '3.8', '-4.3', ''],\n",
       " ['서울', '2023-01-02', '-0.4', '-7.4', '']]"
      ]
     },
     "execution_count": 49,
     "metadata": {},
     "output_type": "execute_result"
    }
   ],
   "source": [
    "##### 자료 읽기: 오전 pt(\"실습_코드제공됨_csv를 리스트로 처리\")자료의 작업 3참조\n",
    "import csv\n",
    "\n",
    "data=[]\n",
    "fileName='날씨정보.csv'\n",
    "f=open(\"C:\\\\Users\\\\bluecom015\\\\Desktop\\\\수업 자료\\\\복습미션\\\\\"+fileName,'r',encoding='utf-8')\n",
    "reader=csv.reader(f,delimiter=',')\n",
    "for row in reader:\n",
    "    data.append(row)\n",
    "f.close()\n",
    "\n",
    "data[:3]"
   ]
  },
  {
   "cell_type": "code",
   "execution_count": 61,
   "metadata": {},
   "outputs": [
    {
     "name": "stdout",
     "output_type": "stream",
     "text": [
      "서울: 47.9mm\n",
      "부산: 81.9mm\n",
      "제주: 42.099999999999994mm\n"
     ]
    }
   ],
   "source": [
    "#### 서울,부산,제주의 강수량합:오전 pt 작업 6 참조\n",
    "#### 세로합에 대한 내용은 참조\n",
    "#### '서울','부산','제주'를 어떻게 분리할것인가는 고민(오전 pt 작업 7 참조)\n",
    "header = data[0]\n",
    "local_data = data[1:]\n",
    "\n",
    "rainfall_sum = {\"서울\": 0, \"부산\": 0, \"제주\": 0}\n",
    "\n",
    "for row in local_data:\n",
    "    city = row[0]\n",
    "    rain = row[4]\n",
    "\n",
    "    if rain != '' and rain is not None: \n",
    "        rainfall_sum[city] += float(rain)\n",
    "\n",
    "for 지점, 합계 in rainfall_sum.items():\n",
    "    print(f\"{지점}: {합계}mm\")\n"
   ]
  },
  {
   "cell_type": "code",
   "execution_count": 62,
   "metadata": {},
   "outputs": [
    {
     "name": "stdout",
     "output_type": "stream",
     "text": [
      "서울 데이터:\n",
      "['서울', '2023-01-01', '3.8', '-4.3', '']\n",
      "['서울', '2023-01-02', '-0.4', '-7.4', '']\n",
      "['서울', '2023-01-03', '0.6', '-9.0', '']\n",
      "['서울', '2023-01-04', '3.3', '-5.7', '']\n",
      "['서울', '2023-01-05', '3.6', '-5.6', '']\n",
      "['서울', '2023-01-06', '5.7', '-4.7', '3.9']\n",
      "['서울', '2023-01-07', '3.8', '-1.4', '0.1']\n",
      "['서울', '2023-01-08', '6.3', '-3.7', '']\n",
      "['서울', '2023-01-09', '7.0', '-1.3', '']\n",
      "['서울', '2023-01-10', '9.1', '-3.9', '']\n",
      "['서울', '2023-01-11', '9.2', '-2.0', '']\n",
      "['서울', '2023-01-12', '12.5', '-0.6', '0.0']\n",
      "['서울', '2023-01-13', '10.1', '5.1', '37.3']\n",
      "['서울', '2023-01-14', '8.4', '3.8', '1.6']\n",
      "['서울', '2023-01-15', '3.8', '-3.5', '3.2']\n",
      "['서울', '2023-01-16', '-1.2', '-6.8', '0.0']\n",
      "['서울', '2023-01-17', '-0.4', '-7.0', '0.0']\n",
      "['서울', '2023-01-18', '2.2', '-4.6', '0.0']\n",
      "['서울', '2023-01-19', '4.3', '-6.0', '1.0']\n",
      "['서울', '2023-01-20', '2.0', '-7.7', '']\n",
      "['서울', '2023-01-21', '1.5', '-10.5', '']\n",
      "['서울', '2023-01-22', '2.6', '-2.8', '0.0']\n",
      "['서울', '2023-01-23', '4.6', '-6.9', '']\n",
      "['서울', '2023-01-24', '-6.9', '-17.0', '0.0']\n",
      "['서울', '2023-01-25', '-5.4', '-17.3', '0.0']\n",
      "['서울', '2023-01-26', '-3.5', '-9.0', '0.8']\n",
      "['서울', '2023-01-27', '-3.8', '-9.6', '']\n",
      "['서울', '2023-01-28', '-0.6', '-11.2', '0.0']\n",
      "['서울', '2023-01-29', '4.9', '-8.0', '']\n",
      "['서울', '2023-01-30', '4.2', '-4.4', '']\n",
      "\n",
      "부산 데이터:\n",
      "['부산', '2023-01-01', '8.7', '-2.5', '']\n",
      "['부산', '2023-01-02', '6.4', '-1.8', '']\n",
      "['부산', '2023-01-03', '6.2', '-3.5', '']\n",
      "['부산', '2023-01-04', '8.1', '-3.4', '']\n",
      "['부산', '2023-01-05', '8.1', '-2.5', '']\n",
      "['부산', '2023-01-06', '10.5', '-1.4', '']\n",
      "['부산', '2023-01-07', '9.2', '1.2', '0.0']\n",
      "['부산', '2023-01-08', '12.4', '-1.7', '']\n",
      "['부산', '2023-01-09', '14.8', '-0.5', '']\n",
      "['부산', '2023-01-10', '13.5', '0.1', '']\n",
      "['부산', '2023-01-11', '14.5', '1.0', '']\n",
      "['부산', '2023-01-12', '16.9', '1.1', '0.2']\n",
      "['부산', '2023-01-13', '17.2', '12.7', '79.4']\n",
      "['부산', '2023-01-14', '14.0', '8.1', '1.7']\n",
      "['부산', '2023-01-15', '8.1', '0.7', '0.5']\n",
      "['부산', '2023-01-16', '6.1', '-2.5', '']\n",
      "['부산', '2023-01-17', '5.3', '-4.0', '']\n",
      "['부산', '2023-01-18', '6.5', '-2.5', '']\n",
      "['부산', '2023-01-19', '7.2', '-3.1', '']\n",
      "['부산', '2023-01-20', '7.4', '-2.8', '']\n",
      "['부산', '2023-01-21', '5.5', '-6.4', '']\n",
      "['부산', '2023-01-22', '4.2', '-3.4', '']\n",
      "['부산', '2023-01-23', '11.2', '-1.5', '']\n",
      "['부산', '2023-01-24', '4.1', '-11.4', '']\n",
      "['부산', '2023-01-25', '-1.0', '-13.5', '']\n",
      "['부산', '2023-01-26', '3.1', '-9.5', '']\n",
      "['부산', '2023-01-27', '2.3', '-6.4', '0.1']\n",
      "['부산', '2023-01-28', '2.1', '-8.4', '']\n",
      "['부산', '2023-01-29', '7.3', '-6.1', '']\n",
      "['부산', '2023-01-30', '7.3', '-2.3', '']\n",
      "\n",
      "제주 데이터:\n",
      "['제주', '2023-01-01', '10.9', '5.2', '']\n",
      "['제주', '2023-01-02', '7.8', '3.7', '']\n",
      "['제주', '2023-01-03', '8.5', '4.5', '']\n",
      "['제주', '2023-01-04', '9.9', '4.1', '']\n",
      "['제주', '2023-01-05', '13.4', '4.2', '']\n",
      "['제주', '2023-01-06', '12.3', '5.6', '1.7']\n",
      "['제주', '2023-01-07', '11.4', '6.1', '0.0']\n",
      "['제주', '2023-01-08', '14.6', '3.8', '']\n",
      "['제주', '2023-01-09', '16.4', '6.6', '']\n",
      "['제주', '2023-01-10', '15.3', '3.6', '']\n",
      "['제주', '2023-01-11', '16.7', '7.1', '']\n",
      "['제주', '2023-01-12', '17.7', '7.4', '2.5']\n",
      "['제주', '2023-01-13', '20.7', '14.5', '17.7']\n",
      "['제주', '2023-01-14', '14.5', '8.9', '2.2']\n",
      "['제주', '2023-01-15', '9.0', '3.8', '3.6']\n",
      "['제주', '2023-01-16', '4.0', '2.9', '']\n",
      "['제주', '2023-01-17', '4.9', '3.0', '0.0']\n",
      "['제주', '2023-01-18', '7.9', '4.7', '0.0']\n",
      "['제주', '2023-01-19', '9.5', '6.1', '0.0']\n",
      "['제주', '2023-01-20', '9.8', '2.3', '0.0']\n",
      "['제주', '2023-01-21', '5.3', '1.7', '']\n",
      "['제주', '2023-01-22', '9.5', '2.0', '5.8']\n",
      "['제주', '2023-01-23', '12.0', '5.2', '0.1']\n",
      "['제주', '2023-01-24', '5.2', '-3.4', '2.3']\n",
      "['제주', '2023-01-25', '1.8', '-3.1', '0.1']\n",
      "['제주', '2023-01-26', '9.6', '0.4', '0.5']\n",
      "['제주', '2023-01-27', '6.1', '-0.1', '4.8']\n",
      "['제주', '2023-01-28', '4.7', '-0.7', '0.8']\n",
      "['제주', '2023-01-29', '8.3', '4.4', '0.0']\n",
      "['제주', '2023-01-30', '9.5', '2.5', '']\n"
     ]
    }
   ],
   "source": [
    "#### '서울','부산','제주'를 어떻게 분리할것인가는 고민(오전 pt 작업 7 참조)\n",
    "\n",
    "seoul_data = []\n",
    "busan_data = []\n",
    "jeju_data = []\n",
    "\n",
    "for row in data[1:]:\n",
    "    city = row[0]\n",
    "\n",
    "    if city == \"서울\":\n",
    "        seoul_data.append(row)\n",
    "    elif city == \"부산\":\n",
    "        busan_data.append(row)\n",
    "    elif city == \"제주\":\n",
    "        jeju_data.append(row)\n",
    "\n",
    "print(\"서울 데이터:\")\n",
    "for row in seoul_data:\n",
    "    print(row)\n",
    "\n",
    "print(\"\\n부산 데이터:\")\n",
    "for row in busan_data:\n",
    "    print(row)\n",
    "\n",
    "print(\"\\n제주 데이터:\")\n",
    "for row in jeju_data:\n",
    "    print(row)"
   ]
  },
  {
   "cell_type": "code",
   "execution_count": 63,
   "metadata": {},
   "outputs": [
    {
     "name": "stdout",
     "output_type": "stream",
     "text": [
      "서울 최고기온: 12.5\n",
      "서울 최저기온: -6.9\n",
      "부산 최고기온: 17.2\n",
      "부산 최저기온: -1.0\n",
      "제주 최고기온: 20.7\n",
      "제주 최저기온: 1.8\n"
     ]
    }
   ],
   "source": [
    "### 서울,부산,제주 지역을 분리 (오전 pt 작업 9 참조)-이떄 최고,최저기온만 가지고 감\n",
    "seoul_temp = []\n",
    "busan_temp = []\n",
    "jeju_temp = []\n",
    "\n",
    "jeju_max_temp = None\n",
    "jeju_min_temp = None\n",
    "\n",
    "for row in data[1:]:\n",
    "    #print(row)\n",
    "    city = row[0]\n",
    "    max_temp = float(row[2]) if row[2] != '' else None\n",
    "    min_temp = float(row[3]) if row[3] != '' else None\n",
    "\n",
    "    if city == \"서울\":\n",
    "        seoul_temp.append(max_temp)\n",
    " \n",
    "    elif city == \"부산\":\n",
    "        busan_temp.append(max_temp)\n",
    "    elif city == \"제주\":\n",
    "        jeju_temp.append(max_temp)\n",
    " \n",
    "\n",
    "# 결과 출력\n",
    "print(\"서울 최고기온:\", max(seoul_temp))\n",
    "print(\"서울 최저기온:\", min(seoul_temp))\n",
    "\n",
    "print(\"부산 최고기온:\", max(busan_temp))\n",
    "print(\"부산 최저기온:\", min(busan_temp))\n",
    "\n",
    "print(\"제주 최고기온:\", max(jeju_temp))\n",
    "print(\"제주 최저기온:\", min(jeju_temp))"
   ]
  },
  {
   "cell_type": "code",
   "execution_count": 65,
   "metadata": {},
   "outputs": [
    {
     "name": "stdout",
     "output_type": "stream",
     "text": [
      "Requirement already satisfied: matplotlib in c:\\users\\bluecom015\\miniconda3\\envs\\openai\\lib\\site-packages (3.8.2)\n",
      "Requirement already satisfied: contourpy>=1.0.1 in c:\\users\\bluecom015\\miniconda3\\envs\\openai\\lib\\site-packages (from matplotlib) (1.2.0)\n",
      "Requirement already satisfied: cycler>=0.10 in c:\\users\\bluecom015\\miniconda3\\envs\\openai\\lib\\site-packages (from matplotlib) (0.12.1)\n",
      "Requirement already satisfied: fonttools>=4.22.0 in c:\\users\\bluecom015\\miniconda3\\envs\\openai\\lib\\site-packages (from matplotlib) (4.47.0)\n",
      "Requirement already satisfied: kiwisolver>=1.3.1 in c:\\users\\bluecom015\\miniconda3\\envs\\openai\\lib\\site-packages (from matplotlib) (1.4.5)\n",
      "Requirement already satisfied: numpy<2,>=1.21 in c:\\users\\bluecom015\\miniconda3\\envs\\openai\\lib\\site-packages (from matplotlib) (1.26.2)\n",
      "Requirement already satisfied: packaging>=20.0 in c:\\users\\bluecom015\\miniconda3\\envs\\openai\\lib\\site-packages (from matplotlib) (23.2)\n",
      "Requirement already satisfied: pillow>=8 in c:\\users\\bluecom015\\miniconda3\\envs\\openai\\lib\\site-packages (from matplotlib) (10.1.0)\n",
      "Requirement already satisfied: pyparsing>=2.3.1 in c:\\users\\bluecom015\\miniconda3\\envs\\openai\\lib\\site-packages (from matplotlib) (3.1.1)\n",
      "Requirement already satisfied: python-dateutil>=2.7 in c:\\users\\bluecom015\\miniconda3\\envs\\openai\\lib\\site-packages (from matplotlib) (2.8.2)\n",
      "Requirement already satisfied: six>=1.5 in c:\\users\\bluecom015\\miniconda3\\envs\\openai\\lib\\site-packages (from python-dateutil>=2.7->matplotlib) (1.16.0)\n"
     ]
    }
   ],
   "source": [
    "!pip install matplotlib"
   ]
  },
  {
   "cell_type": "code",
   "execution_count": 67,
   "metadata": {},
   "outputs": [
    {
     "data": {
      "text/plain": [
       "(0.0, 80.0)"
      ]
     },
     "execution_count": 67,
     "metadata": {},
     "output_type": "execute_result"
    },
    {
     "data": {
      "image/png": "[encoded data removed]",
      "text/plain": [
       "<Figure size 1000x300 with 3 Axes>"
      ]
     },
     "metadata": {},
     "output_type": "display_data"
    }
   ],
   "source": [
    "### 위에서 제작한 자료를 ㅇ용하여 기온차이 필드제작(작업 4~5 참조)\n",
    "new_num=[]\n",
    "for x in local:\n",
    "    #빈곳을 0으로\n",
    "    if x[4]=='':\n",
    "        new_num.append(0)\n",
    "    else:\n",
    "        new_num.append(float(x[4]))\n",
    "\n",
    "\n",
    "서울,부산,제주=new_num[:30],new_num[31:60],new_num[60:]\n",
    "\n",
    "plt.figure(figsize=(10,3))\n",
    "plt.subplot(1,3,1)\n",
    "plt.plot(서울)\n",
    "plt.title('서울')\n",
    "plt.ylim([0,80])\n",
    "\n",
    "plt.subplot(1,3,2)\n",
    "plt.plot(부산)\n",
    "plt.title('부산')\n",
    "plt.ylim([0,80])\n",
    "\n",
    "plt.subplot(1,3,3)\n",
    "plt.plot(제주)\n",
    "plt.title('제주')\n",
    "plt.ylim([0,80])"
   ]
  }
 ],
 "metadata": {
  "kernelspec": {
   "display_name": "OpenAI",
   "language": "python",
   "name": "python3"
  },
  "language_info": {
   "codemirror_mode": {
    "name": "ipython",
    "version": 3
   },
   "file_extension": ".py",
   "mimetype": "text/x-python",
   "name": "python",
   "nbconvert_exporter": "python",
   "pygments_lexer": "ipython3",
   "version": "3.12.0"
  }
 },
 "nbformat": 4,
 "nbformat_minor": 2
}
