{
 "cells": [
  {
   "cell_type": "markdown",
   "metadata": {},
   "source": [
    "P.594~619"
   ]
  },
  {
   "cell_type": "code",
   "execution_count": 1,
   "metadata": {},
   "outputs": [
    {
     "ename": "SyntaxError",
     "evalue": "'return' outside function (988870779.py, line 12)",
     "output_type": "error",
     "traceback": [
      "\u001b[1;36m  Cell \u001b[1;32mIn[1], line 12\u001b[1;36m\u001b[0m\n\u001b[1;33m    return sum\u001b[0m\n\u001b[1;37m    ^\u001b[0m\n\u001b[1;31mSyntaxError\u001b[0m\u001b[1;31m:\u001b[0m 'return' outside function\n"
     ]
    }
   ],
   "source": [
    "#### 파이썬 2.x 버전에서는 class에서 반드시 _init_ 필요\n",
    "class cal:\n",
    "    def __init__(self):\n",
    "        self.aa=a\n",
    "        self.bb=b\n",
    "        print('-------')\n",
    "\n",
    "    def mysum(*args):\n",
    "        sum=0\n",
    "        for x in args:\n",
    "            sum+=x\n",
    "    return sum\n",
    "\n",
    "    def mymat(*args):\n",
    "        sum=0\n",
    "        for x in args:\n",
    "            sum*=x\n",
    "    return sum\n",
    "my=cal(3,4)\n",
    "my\n",
    "#mysum(1,2,3,3,5)"
   ]
  },
  {
   "cell_type": "code",
   "execution_count": 23,
   "metadata": {},
   "outputs": [
    {
     "name": "stdout",
     "output_type": "stream",
     "text": [
      "-------\n",
      "13\n"
     ]
    }
   ],
   "source": [
    "class cal:\n",
    "    def __init__(self):       # 클래스 인스턴스를 생성하는 순간 자동으로 맨처음 실행되는 함수\n",
    "        print('-------')\n",
    "    def test(x=2):\n",
    "        print(x+5)\n",
    "cal()\n",
    "cal.test(8)"
   ]
  },
  {
   "cell_type": "code",
   "execution_count": 24,
   "metadata": {},
   "outputs": [
    {
     "name": "stdout",
     "output_type": "stream",
     "text": [
      "-------\n",
      "5\n",
      "-------\n",
      "14\n",
      "13\n"
     ]
    }
   ],
   "source": [
    "class cal:\n",
    "    def __init__(self,v1=3,v2=2):       # 클래스 인스턴스를 생성하는 순간 자동으로 맨처음 실행되는 함수\n",
    "        print('-------')\n",
    "        self.x=v1\n",
    "        self.y=v2\n",
    "        print(self.x+self.y)\n",
    "    def test(x=2):\n",
    "        print(x+5)\n",
    "cal()\n",
    "cal(6,8)\n",
    "cal.test(8)"
   ]
  },
  {
   "cell_type": "code",
   "execution_count": 30,
   "metadata": {},
   "outputs": [
    {
     "name": "stdout",
     "output_type": "stream",
     "text": [
      "-------\n",
      "bu사용자가 작업합니다.\n",
      "2\n",
      "-------\n",
      "dddd사용자가 작업합니다.\n",
      "40\n"
     ]
    }
   ],
   "source": [
    "class cal:\n",
    "    def __init__(self,username='bu'):       # 클래스 인스턴스를 생성하는 순간 자동으로 맨처음 실행되는 함수\n",
    "        print('-------')\n",
    "        self.name=username\n",
    "        print(self.name + '사용자가 작업합니다.')\n",
    "    def test(self,x=2):\n",
    "        if self.name!='bu':\n",
    "            print(x*20)\n",
    "        else:\n",
    "            print(x)\n",
    "aa=cal()\n",
    "aa.test()\n",
    "\n",
    "bb=cal('dddd')\n",
    "bb.test()"
   ]
  },
  {
   "cell_type": "code",
   "execution_count": 34,
   "metadata": {},
   "outputs": [
    {
     "name": "stdout",
     "output_type": "stream",
     "text": [
      "-------\n",
      "bu사용자가 작업합니다.\n",
      "1\n",
      "-------\n",
      "bu사용자가 작업합니다.\n",
      "2\n",
      "-------\n",
      "bu사용자가 작업합니다.\n",
      "3\n"
     ]
    },
    {
     "data": {
      "text/plain": [
       "<__main__.cal at 0x16af5071fd0>"
      ]
     },
     "execution_count": 34,
     "metadata": {},
     "output_type": "execute_result"
    }
   ],
   "source": [
    "class cal:\n",
    "    total=0\n",
    "    def __init__(self,username='bu'):       # 클래스 인스턴스를 생성하는 순간 자동으로 맨처음 실행되는 함수\n",
    "        print('-------')\n",
    "        self.name=username\n",
    "        print(self.name + '사용자가 작업합니다.')\n",
    "        cal.total+=1  # cal.total=cal.total+1\n",
    "        print(cal.total)\n",
    "\n",
    "\n",
    "    def test(self,x=2):\n",
    "        if self.name!='bu':\n",
    "            print(x*20)\n",
    "        else:\n",
    "            print(x)\n",
    "\n",
    "cal()\n",
    "cal()\n",
    "cal()\n",
    "\n",
    "#bu=cal()\n",
    "#bu.test(3)\n",
    "#bu.test(5)\n"
   ]
  },
  {
   "cell_type": "code",
   "execution_count": 2,
   "metadata": {},
   "outputs": [
    {
     "ename": "SyntaxError",
     "evalue": "unterminated string literal (detected at line 13) (2407414494.py, line 13)",
     "output_type": "error",
     "traceback": [
      "\u001b[1;36m  Cell \u001b[1;32mIn[2], line 13\u001b[1;36m\u001b[0m\n\u001b[1;33m    print('공격 성공',target.name,'(',target.strength,')'을/를 공격합니다')\u001b[0m\n\u001b[1;37m                                                              ^\u001b[0m\n\u001b[1;31mSyntaxError\u001b[0m\u001b[1;31m:\u001b[0m unterminated string literal (detected at line 13)\n"
     ]
    }
   ],
   "source": [
    "class Character:\n",
    "    def __init__(self, name, hp, ad):\n",
    "        self.name = name\n",
    "        self.strength = hp\n",
    "        self.attack_damage = ad\n",
    "        print('Character 클래스의 객체 생성=>',self.name)\n",
    "    def information(self):\n",
    "        print('이름=>', self.name, '체력=>', self.strength, '공격력=>', self.attack_damage)\n",
    "    def attack(self, target):\n",
    "        print(self.name,'이/가',target.name,'(',target.strength,') 을/를 공격합니다.')\n",
    "        #공격받은 대상의 체력을 공격력만큼 감소시키기\n",
    "        target.strength -= self.attack_damage\n",
    "        print ('공격성공',(',target.strength,') 을/를 공격합니다.')\n",
    "    def level_up(self):\n",
    "        self.strength *=1.2\n",
    "        self.attack_damage += 5\n",
    "swordsman = Character('검술사',100,10)\n",
    "fairy = Character('요정',60,5)\n",
    "thief = Character('도둑',85,8)\n",
    "print('변경 전 -----------')\n",
    "swordsman.information()\n",
    "fairy.information()\n",
    "thief.information()\n",
    "\n",
    "swordsman.level_up()\n",
    "print('변경 후 -----------')\n",
    "swordsman.information()\n",
    "\n",
    "\n"
   ]
  }
 ],
 "metadata": {
  "kernelspec": {
   "display_name": "OpenAI",
   "language": "python",
   "name": "python3"
  },
  "language_info": {
   "codemirror_mode": {
    "name": "ipython",
    "version": 3
   },
   "file_extension": ".py",
   "mimetype": "text/x-python",
   "name": "python",
   "nbconvert_exporter": "python",
   "pygments_lexer": "ipython3",
   "version": "3.12.0"
  }
 },
 "nbformat": 4,
 "nbformat_minor": 2
}
